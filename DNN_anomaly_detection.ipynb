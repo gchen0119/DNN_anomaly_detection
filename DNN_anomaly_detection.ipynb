{
 "cells": [
  {
   "cell_type": "markdown",
   "metadata": {},
   "source": [
    "# Credit Card Fraud Detection with Multi-feature DNN"
   ]
  },
  {
   "cell_type": "markdown",
   "metadata": {},
   "source": [
    "# Overview\n",
    "The purpose of this project is to use fully connected deep neural network (DNN) to detect the fraudulent credit card transactions in the multi-feature dataset. This is a classification problem, and the results by DNN are expected to show a multi-dimensional \"decision boundary\" that are hard to be defined by conventional classification techniques, e.g., SVM.\n",
    "\n",
    "What's learned?\n",
    "* With small number of anomalies, the anomaly \"duplication\" during training and using dropout layers does not lead to overfitting.\n",
    "\n",
    "\n",
    "# Data\n",
    "The dataset is based on kaggle's [credit card fraud detection](https://www.kaggle.com/mlg-ulb/creditcardfraud#creditcard.csv). According to the website, the dataset contains transactions occurred in two days made by credit cards in September 2013 by european cardholders. The positive class/frauds, 492 frauds out of 284,807 transactions, account for 0.172% of all transactions.\n",
    "\n",
    "The credit card data features V1, V2, ..., V28 provided are numerical principle components (PC) obtained with principle component analysis (PCA) transformation. Therefore, each feature data is already normalized by the PC variance, and has zero mean and unit variance. The original features are not allowed due to confidentiality issues. The only features without PCA transformation are 'Time' (seconds elapsed between each transaction and the first transaction in the dataset) and 'Amount' (transaction Amount). Feature 'Class' is the response variable and it takes value 1 in case of fraud and 0 otherwise.  \n",
    "\n",
    "Since the PCA data are normalized, they can be worked directly as inputs for DNN. The 'Class' of 0 and 1 can be treated directly as the output using a sigmoid at the output layer.\n",
    "\n",
    "Import necessary libraries:"
   ]
  },
  {
   "cell_type": "code",
   "execution_count": 17,
   "metadata": {},
   "outputs": [],
   "source": [
    "import pandas as pd\n",
    "from pandas import DataFrame as df\n",
    "import math\n",
    "import numpy as np\n",
    "import time\n",
    "from random import shuffle\n",
    "from matplotlib import pyplot as plt\n",
    "# ML tools\n",
    "from sklearn.metrics import roc_auc_score,roc_curve,auc\n",
    "from sklearn.preprocessing import MinMaxScaler\n",
    "import tensorflow as tf\n",
    "import keras\n",
    "from keras.models import Sequential\n",
    "from keras.layers import Input, Dense, Dropout, LSTM, TimeDistributed,Activation"
   ]
  },
  {
   "cell_type": "markdown",
   "metadata": {},
   "source": [
    "Batch data generator for model training:"
   ]
  },
  {
   "cell_type": "code",
   "execution_count": 7,
   "metadata": {},
   "outputs": [],
   "source": [
    "class KerasBatchGenerator:\n",
    "    def __init__(self,data,batchsize,ndim,nsteps,skip_steps):\n",
    "        self.data=data\n",
    "        self.batchsize=batchsize\n",
    "        self.current_idx=0\n",
    "        self.nsteps=nsteps\n",
    "        self.skip_steps = skip_steps\n",
    "        self.ndim = ndim\n",
    "    def generate(self,model):\n",
    "        x = np.zeros((self.batchsize, self.ndim))            \n",
    "        y = np.zeros((self.batchsize, 1))\n",
    "        while True:\n",
    "            for i in range(self.batchsize):\n",
    "                x, y = self.data[self.current_idx:self.current_idx+self.nsteps,:-1], self.data[self.current_idx:self.current_idx+self.nsteps,-1]\n",
    "                self.current_idx += self.skip_steps             \n",
    "                yield x, y # yield returns a set of x,y values for model.fit_generator to perform batch training"
   ]
  },
  {
   "cell_type": "markdown",
   "metadata": {},
   "source": [
    "Split data into train, valid, and test and create batches using KerasBatchGenerator:"
   ]
  },
  {
   "cell_type": "code",
   "execution_count": 8,
   "metadata": {},
   "outputs": [],
   "source": [
    "# Define model parameters\n",
    "batchsize = 30\n",
    "nsteps = 5000 # number of samples in each batch\n",
    "ndim = 29  # feature dimensions\n",
    "hdim = 100 # hidden layer dimensions\n",
    "hlayers= 20 # hidden layers\n",
    "nepochs=50\n",
    "dropoutRate = 0.2\n",
    "datapath = 'data/'\n",
    "data = pd.read_csv('data/creditcard.csv')\n",
    "n = data.shape[0] # total sample size\n",
    "\n",
    "# scale the \"amount\" column\n",
    "scaler = MinMaxScaler(feature_range=(-1, 1))\n",
    "\n",
    "\n",
    "scaler.fit(data.values[:,-2].reshape(-1,1))\n",
    "amount_scaled = scaler.fit_transform(X=data.values[:,-2].reshape(-1,1))\n",
    "data = np.concatenate([data.values[:,1:-2], amount_scaled, data.values[:,-1].reshape(-1,1)],axis=1) # drop the 1st time column and replace the scaled amount\n",
    "\n",
    "data_ones  = data[[i==1 for i in data[:,-1]],:] # get ones \n",
    "data_zeros = data[[i==0 for i in data[:,-1]],:] # get zeros\n",
    "#print(len(zeros[:round(0.8*len(zeros))]))\n",
    "\n",
    "# shuffle data with ones into data with zeros\n",
    "nrepeat=300\n",
    "nz = len(data_ones)\n",
    "train = np.concatenate([data[:round(0.8*n)],             np.repeat(data_ones[:round(0.8*nz)],nrepeat,axis=0)],axis=0)\n",
    "valid = np.concatenate([data[round(0.8*n):round(0.9*n)], np.repeat(data_ones[round(0.8*nz):round(0.9*nz)],nrepeat,axis=0)],axis=0)\n",
    "#test  = np.concatenate([data[round(0.9*n):],             np.repeat(data_ones[round(0.9*nz):],nrepeat,axis=0)],axis=0)\n",
    "test  = data[round(0.9*n):]\n",
    "\n",
    "\n",
    "np.random.shuffle(train), np.random.shuffle(valid)#, np.random.shuffle(test)\n",
    "\n",
    "train_data_generator = KerasBatchGenerator(train, batchsize, ndim, nsteps, skip_steps=nsteps)\n",
    "valid_data_generator = KerasBatchGenerator(valid, batchsize, ndim, nsteps, skip_steps=nsteps)"
   ]
  },
  {
   "cell_type": "markdown",
   "metadata": {},
   "source": [
    "As shown in above codes, the anomalies duplicated (using `np.repeat`) since they only account for 0.17% of the total data which makes the model training very hard. The data is split into 80,10,10 percent for training, validation and testing. The anomaly duplication is only done in training and validation."
   ]
  },
  {
   "cell_type": "markdown",
   "metadata": {},
   "source": [
    "# Build Model\n",
    "The model contains fully connected layers with dropout enabled to prevent overfitting:"
   ]
  },
  {
   "cell_type": "code",
   "execution_count": 283,
   "metadata": {},
   "outputs": [],
   "source": [
    "# create the model according to the local paper\n",
    "\n",
    "def build_model(ndim,hdim,hlayers,dropoutRate, datapath):\n",
    "    model = Sequential()\n",
    "    model.add(Dense(ndim, input_dim= ndim, kernel_initializer='glorot_normal', activation='relu'))\n",
    "    for _ in range(hlayers-1):\n",
    "        model.add(Dropout(dropoutRate))\n",
    "        model.add(Dense(hdim, kernel_initializer='glorot_normal', activation='relu')) \n",
    "    model.add(Dense(1,kernel_initializer='glorot_normal', activation='sigmoid')) # determine the probability of anomaly \n",
    "    model.compile(optimizer='adam', loss='binary_crossentropy', metrics=[\"accuracy\"])\n",
    "    checkpointer = keras.callbacks.ModelCheckpoint(filepath=datapath + '/model-{epoch:02d}.hdf5', verbose=1)\n",
    "    model.summary()\n",
    "    return model, checkpointer"
   ]
  },
  {
   "cell_type": "markdown",
   "metadata": {},
   "source": [
    "# Train Model\n",
    "Each epoch during the training are saved for the purpose to select the best model, let's start training:"
   ]
  },
  {
   "cell_type": "code",
   "execution_count": 284,
   "metadata": {},
   "outputs": [
    {
     "name": "stdout",
     "output_type": "stream",
     "text": [
      "_________________________________________________________________\n",
      "Layer (type)                 Output Shape              Param #   \n",
      "=================================================================\n",
      "dense_841 (Dense)            (None, 29)                870       \n",
      "_________________________________________________________________\n",
      "dropout_761 (Dropout)        (None, 29)                0         \n",
      "_________________________________________________________________\n",
      "dense_842 (Dense)            (None, 100)               3000      \n",
      "_________________________________________________________________\n",
      "dropout_762 (Dropout)        (None, 100)               0         \n",
      "_________________________________________________________________\n",
      "dense_843 (Dense)            (None, 100)               10100     \n",
      "_________________________________________________________________\n",
      "dropout_763 (Dropout)        (None, 100)               0         \n",
      "_________________________________________________________________\n",
      "dense_844 (Dense)            (None, 100)               10100     \n",
      "_________________________________________________________________\n",
      "dropout_764 (Dropout)        (None, 100)               0         \n",
      "_________________________________________________________________\n",
      "dense_845 (Dense)            (None, 100)               10100     \n",
      "_________________________________________________________________\n",
      "dropout_765 (Dropout)        (None, 100)               0         \n",
      "_________________________________________________________________\n",
      "dense_846 (Dense)            (None, 100)               10100     \n",
      "_________________________________________________________________\n",
      "dropout_766 (Dropout)        (None, 100)               0         \n",
      "_________________________________________________________________\n",
      "dense_847 (Dense)            (None, 100)               10100     \n",
      "_________________________________________________________________\n",
      "dropout_767 (Dropout)        (None, 100)               0         \n",
      "_________________________________________________________________\n",
      "dense_848 (Dense)            (None, 100)               10100     \n",
      "_________________________________________________________________\n",
      "dropout_768 (Dropout)        (None, 100)               0         \n",
      "_________________________________________________________________\n",
      "dense_849 (Dense)            (None, 100)               10100     \n",
      "_________________________________________________________________\n",
      "dropout_769 (Dropout)        (None, 100)               0         \n",
      "_________________________________________________________________\n",
      "dense_850 (Dense)            (None, 100)               10100     \n",
      "_________________________________________________________________\n",
      "dropout_770 (Dropout)        (None, 100)               0         \n",
      "_________________________________________________________________\n",
      "dense_851 (Dense)            (None, 100)               10100     \n",
      "_________________________________________________________________\n",
      "dropout_771 (Dropout)        (None, 100)               0         \n",
      "_________________________________________________________________\n",
      "dense_852 (Dense)            (None, 100)               10100     \n",
      "_________________________________________________________________\n",
      "dropout_772 (Dropout)        (None, 100)               0         \n",
      "_________________________________________________________________\n",
      "dense_853 (Dense)            (None, 100)               10100     \n",
      "_________________________________________________________________\n",
      "dropout_773 (Dropout)        (None, 100)               0         \n",
      "_________________________________________________________________\n",
      "dense_854 (Dense)            (None, 100)               10100     \n",
      "_________________________________________________________________\n",
      "dropout_774 (Dropout)        (None, 100)               0         \n",
      "_________________________________________________________________\n",
      "dense_855 (Dense)            (None, 100)               10100     \n",
      "_________________________________________________________________\n",
      "dropout_775 (Dropout)        (None, 100)               0         \n",
      "_________________________________________________________________\n",
      "dense_856 (Dense)            (None, 100)               10100     \n",
      "_________________________________________________________________\n",
      "dropout_776 (Dropout)        (None, 100)               0         \n",
      "_________________________________________________________________\n",
      "dense_857 (Dense)            (None, 100)               10100     \n",
      "_________________________________________________________________\n",
      "dropout_777 (Dropout)        (None, 100)               0         \n",
      "_________________________________________________________________\n",
      "dense_858 (Dense)            (None, 100)               10100     \n",
      "_________________________________________________________________\n",
      "dropout_778 (Dropout)        (None, 100)               0         \n",
      "_________________________________________________________________\n",
      "dense_859 (Dense)            (None, 100)               10100     \n",
      "_________________________________________________________________\n",
      "dropout_779 (Dropout)        (None, 100)               0         \n",
      "_________________________________________________________________\n",
      "dense_860 (Dense)            (None, 100)               10100     \n",
      "_________________________________________________________________\n",
      "dense_861 (Dense)            (None, 1)                 101       \n",
      "=================================================================\n",
      "Total params: 185,771\n",
      "Trainable params: 185,771\n",
      "Non-trainable params: 0\n",
      "_________________________________________________________________\n",
      "Epoch 1/50\n",
      "2/2 [==============================] - 37s 18s/step - loss: 0.6911 - acc: 0.6433 - val_loss: 0.6896 - val_acc: 0.6670\n",
      "\n",
      "Epoch 00001: saving model to data//model-01.hdf5\n",
      "Epoch 2/50\n",
      "\n",
      "... ...\n",
      "Epoch 35/50\n",
      "2/2 [==============================] - 0s 218ms/step - loss: 0.1337 - acc: 0.9581 - val_loss: nan - val_acc: nan\n",
      "\n",
      "Epoch 00035: saving model to data//model-35.hdf5\n",
      "Epoch 36/50\n",
      "2/2 [==============================] - 0s 22ms/step - loss: nan - acc: nan - val_loss: nan - val_acc: nan\n",
      "\n",
      "Epoch 00036: saving model to data//model-36.hdf5\n",
      "\n",
      "... ...\n",
      "Epoch 00050: saving model to data//model-50.hdf5\n"
     ]
    },
    {
     "data": {
      "text/plain": [
       "<keras.callbacks.History at 0x19d664dd8>"
      ]
     },
     "execution_count": 284,
     "metadata": {},
     "output_type": "execute_result"
    }
   ],
   "source": [
    "\n",
    "# In order to reset_states for stateful_=True in the generater, \n",
    "# we need to pass the tensorflow session to the generator\n",
    "last_epoch = 0 # set this to 0 if model never trained\n",
    "\n",
    "model, checkpointer  = build_model(ndim, hdim, hlayers, dropoutRate, datapath)\n",
    "model.fit_generator(train_data_generator.generate(model), len(train)//(batchsize*nsteps), epochs=last_epoch+nepochs,\n",
    "                validation_data=valid_data_generator.generate(model), validation_steps=math.ceil(len(valid)/(batchsize*nsteps)),\n",
    "                callbacks=[checkpointer],shuffle=True,initial_epoch=last_epoch)\n"
   ]
  },
  {
   "cell_type": "markdown",
   "metadata": {},
   "source": [
    "As shown in the training, the accuracy approaches 1 and then becomes NAN as a result of exploding gradient when the change in weight is close to zero at the denominator.\n",
    "\n",
    "# Single batch prediction\n",
    "Use the best trained model to make the anomaly prediction for a number of prediction_samp samples"
   ]
  },
  {
   "cell_type": "code",
   "execution_count": 10,
   "metadata": {},
   "outputs": [],
   "source": [
    "def predict(i_oldmodel,prediction_samp,data):\n",
    "    model = keras.models.load_model('data/model-%s.hdf5'%i_oldmodel)\n",
    "    y=[]\n",
    "    for i in range(prediction_samp):\n",
    "        curr_frame = data[i,:-1]   \n",
    "        y.append(model.predict(curr_frame[np.newaxis,:]))                \n",
    "    return y"
   ]
  },
  {
   "cell_type": "code",
   "execution_count": 13,
   "metadata": {},
   "outputs": [],
   "source": [
    "prediction_samp=10000\n",
    "y = np.asarray(predict(35,prediction_samp,test)).reshape(-1,1)\n",
    "y_true = test[:prediction_samp,-1].reshape(-1,1)"
   ]
  },
  {
   "cell_type": "code",
   "execution_count": 328,
   "metadata": {
    "scrolled": true
   },
   "outputs": [
    {
     "name": "stdout",
     "output_type": "stream",
     "text": [
      "total number of actual anomalies = 10\n",
      "total number of actual anomalies predicted = 9.0\n",
      "total number of anomalies predicted = 14\n",
      "False positive rate = 0.35714285714285715\n"
     ]
    },
    {
     "data": {
      "text/plain": [
       "[<matplotlib.lines.Line2D at 0x1dea51438>]"
      ]
     },
     "execution_count": 328,
     "metadata": {},
     "output_type": "execute_result"
    },
    {
     "data": {
      "image/png": "[encoded data removed]",
      "text/plain": [
       "<Figure size 432x288 with 1 Axes>"
      ]
     },
     "metadata": {},
     "output_type": "display_data"
    }
   ],
   "source": [
    "#plt.plot(range(0,prediction_samp),test_data,'b.')\n",
    "y_test = np.array(y)\n",
    "y_test[np.asarray([i>0.5 for i in y])] = 1\n",
    "y_test[np.asarray([i<=0.5 for i in y])] = 0\n",
    "#y[i<=0.5 for i in y]=0\n",
    "plt.plot(range(0,prediction_samp),y_test,'ro')\n",
    "npreda = np.count_nonzero(y_test)\n",
    "i_preda = [i==1 for i in y_test] # predicted anomaly indices\n",
    "nactual = sum(i==1 for i in y_true)\n",
    "naccurate = npreda - abs(sum(y_test[i_preda]-y_true[i_preda])) \n",
    "print('total number of actual anomalies = '+ str(*nactual))\n",
    "print('total number of actual anomalies predicted = '+str(naccurate))\n",
    "print('total number of anomalies predicted = '+str(npreda))\n",
    "print('False positive rate = '+str((npreda-naccurate)/npreda))\n",
    "plt.plot(range(0,prediction_samp),y_true,'b.')\n"
   ]
  },
  {
   "cell_type": "markdown",
   "metadata": {},
   "source": [
    "As shown in the above figure, with a test sample size of 10000, the algorithm captured 9 out of 10 actual anomalies (blue dots at ones). The False positive rate is 0.36, which is not too bad for such small number of anomalies."
   ]
  },
  {
   "cell_type": "markdown",
   "metadata": {},
   "source": [
    "\n",
    "<img src=\"roc1.png\" alt=\"drawing\" width=\"300\"/>"
   ]
  },
  {
   "cell_type": "code",
   "execution_count": 33,
   "metadata": {},
   "outputs": [
    {
     "name": "stdout",
     "output_type": "stream",
     "text": [
      "Area Under Curve = 98.91\n"
     ]
    },
    {
     "data": {
      "image/png": "[encoded data removed]",
      "text/plain": [
       "<Figure size 1440x720 with 1 Axes>"
      ]
     },
     "metadata": {},
     "output_type": "display_data"
    }
   ],
   "source": [
    "y_test = np.array(y)\n",
    "y_true = test[:prediction_samp,-1].reshape(-1,1)\n",
    "area_under_roc = sklearn.metrics.roc_auc_score(y_true, y_test) \n",
    "print('Area Under Curve = {:0.2f}'.format(area_under_roc*100))\n",
    "fpr, tpr, thresholds = sklearn.metrics.roc_curve(y_true, y_test)\n",
    "roc_auc = sklearn.metrics.auc(fpr, tpr) # Area Under ROC Curve\n",
    "\n",
    "#plt.figure()\n",
    "lw = 2\n",
    "plt.figure(figsize=(20,10))\n",
    "plt.plot(fpr, tpr, color='darkorange',\n",
    "         lw=lw, label='ROC curve (area = %0.2f)' % roc_auc)\n",
    "\n",
    "plt.plot([0, 1], [0, 1], color='navy', lw=lw, linestyle='--')\n",
    "plt.xlim([0.0, 1.0])\n",
    "plt.ylim([0.0, 1.05])\n",
    "# ROC considers all thresholds of probabilities to plot the yellow curve\n",
    "# suppose at FPR=0.1, the TPR=0.9\n",
    "plt.xlabel('False Positive Rate') \n",
    "plt.ylabel('True Positive Rate')\n",
    "plt.title('Receiver Operating Characteristic')\n",
    "plt.legend(loc=\"lower right\")\n",
    "\n",
    "plt.show()"
   ]
  },
  {
   "cell_type": "markdown",
   "metadata": {},
   "source": [
    "# Summary\n",
    "The project shows that by duplicating the small samples of anomalies in the training process, the model can be well trained with DNN to capture the anomalies using multi-dimensional features. The false positive rate is low but I hope to reduce it further by tweaking the hyperparameters and adding more hidden layers."
   ]
  },
  {
   "cell_type": "code",
   "execution_count": null,
   "metadata": {},
   "outputs": [],
   "source": []
  }
 ],
 "metadata": {
  "kernelspec": {
   "display_name": "Python 3",
   "language": "python",
   "name": "python3"
  },
  "language_info": {
   "codemirror_mode": {
    "name": "ipython",
    "version": 3
   },
   "file_extension": ".py",
   "mimetype": "text/x-python",
   "name": "python",
   "nbconvert_exporter": "python",
   "pygments_lexer": "ipython3",
   "version": "3.5.0"
  }
 },
 "nbformat": 4,
 "nbformat_minor": 2
}
